{
 "cells": [
  {
   "cell_type": "markdown",
   "id": "f161f0fc-140f-4770-8141-5acfd26a452b",
   "metadata": {},
   "source": [
    "\n",
    "\n",
    "s = \"this is My First Python programming class and i am learNING python string and its function\" \n",
    "1 . Try to extract data from index one to index 300 with a jump of 3 2.Try to reverse a string without using reverse function 3. Try to split a string after conversion of entire string in uppercase 4. try to convert the whole string into lower case 5 . Try to capitalize the whole string 6 . Write a diference between isalnum() and isalpha() 7. Try to give an example of expand tab 8 . Give an example of strip , lstrip and rstrip 9. Replace a string charecter by another charector by taking your own example \"Your Name\" 10 . Try to give a defination of string center function with and exmple 11 . Write your own definition of compiler and interpretor without copy paste form internet in your own language 12 . Python is a interpreted of compiled language give a clear ans with your understanding 13 . Try to write a usecase of python with your understanding .\n",
    "\n"
   ]
  },
  {
   "cell_type": "code",
   "execution_count": 13,
   "id": "b37ae55a-e7d4-4a03-96aa-bac1de27541c",
   "metadata": {},
   "outputs": [],
   "source": [
    "s = \"this is My First Python programming class and i am learNING python string and its function\" "
   ]
  },
  {
   "cell_type": "markdown",
   "id": "148d5cf2-6ed0-4035-906c-655128f7a13a",
   "metadata": {},
   "source": [
    "# 1 . Try to extract data from index one to index 300 with a jump of 3"
   ]
  },
  {
   "cell_type": "code",
   "execution_count": 16,
   "id": "49e6a594-b70e-4c47-a489-93b42dfbf51a",
   "metadata": {},
   "outputs": [
    {
     "data": {
      "text/plain": [
       "'h   r tnrrmglsnimeNGyosi dtfco'"
      ]
     },
     "execution_count": 16,
     "metadata": {},
     "output_type": "execute_result"
    }
   ],
   "source": [
    "s[1:301:3]"
   ]
  },
  {
   "cell_type": "markdown",
   "id": "58d25471-49e6-4123-ad6b-521866d8b8e1",
   "metadata": {},
   "source": [
    "# 2.Try to reverse a string without using reverse function"
   ]
  },
  {
   "cell_type": "code",
   "execution_count": 17,
   "id": "9db318eb-3370-4baf-bd89-3937f78b53ee",
   "metadata": {},
   "outputs": [
    {
     "data": {
      "text/plain": [
       "'noitcnuf sti dna gnirts nohtyp GNINrael ma i dna ssalc gnimmargorp nohtyP tsriF yM si siht'"
      ]
     },
     "execution_count": 17,
     "metadata": {},
     "output_type": "execute_result"
    }
   ],
   "source": [
    "s[: :-1]"
   ]
  },
  {
   "cell_type": "markdown",
   "id": "02aeb4b0-2578-4ff8-8093-8276dc9b8fbd",
   "metadata": {},
   "source": [
    "# 3. Try to split a string after conversion of entire string in uppercase"
   ]
  },
  {
   "cell_type": "code",
   "execution_count": 18,
   "id": "b89f5305-71ff-4f8d-b98f-6bb88765c87f",
   "metadata": {},
   "outputs": [
    {
     "data": {
      "text/plain": [
       "'THIS IS MY FIRST PYTHON PROGRAMMING CLASS AND I AM LEARNING PYTHON STRING AND ITS FUNCTION'"
      ]
     },
     "execution_count": 18,
     "metadata": {},
     "output_type": "execute_result"
    }
   ],
   "source": [
    "s.upper()"
   ]
  },
  {
   "cell_type": "code",
   "execution_count": 19,
   "id": "e52aeb42-e724-4404-b6d4-9dba2a60a883",
   "metadata": {},
   "outputs": [
    {
     "data": {
      "text/plain": [
       "['this',\n",
       " 'is',\n",
       " 'My',\n",
       " 'First',\n",
       " 'Python',\n",
       " 'programming',\n",
       " 'class',\n",
       " 'and',\n",
       " 'i',\n",
       " 'am',\n",
       " 'learNING',\n",
       " 'python',\n",
       " 'string',\n",
       " 'and',\n",
       " 'its',\n",
       " 'function']"
      ]
     },
     "execution_count": 19,
     "metadata": {},
     "output_type": "execute_result"
    }
   ],
   "source": [
    "s.split()"
   ]
  },
  {
   "cell_type": "markdown",
   "id": "beaf9600-a752-4710-a814-f5afb0d0810f",
   "metadata": {},
   "source": [
    "# 4. try to convert the whole string into lower case "
   ]
  },
  {
   "cell_type": "code",
   "execution_count": 20,
   "id": "5a67e7e5-591d-4381-81bd-94b3bbd16330",
   "metadata": {},
   "outputs": [
    {
     "data": {
      "text/plain": [
       "'this is my first python programming class and i am learning python string and its function'"
      ]
     },
     "execution_count": 20,
     "metadata": {},
     "output_type": "execute_result"
    }
   ],
   "source": [
    "s.lower()"
   ]
  },
  {
   "cell_type": "markdown",
   "id": "c3882651-b2e7-48d6-a498-45e9dee33194",
   "metadata": {},
   "source": [
    "# 5 . Try to capitalize the whole string"
   ]
  },
  {
   "cell_type": "code",
   "execution_count": 21,
   "id": "48202071-6a31-4841-b9f3-9114c6f2975f",
   "metadata": {},
   "outputs": [
    {
     "data": {
      "text/plain": [
       "'This is my first python programming class and i am learning python string and its function'"
      ]
     },
     "execution_count": 21,
     "metadata": {},
     "output_type": "execute_result"
    }
   ],
   "source": [
    "s.capitalize()"
   ]
  },
  {
   "cell_type": "markdown",
   "id": "e8736246-9801-4eb9-91be-3af5bf830a0a",
   "metadata": {},
   "source": [
    "# 6 . Write a diference between isalnum() and isalpha()"
   ]
  },
  {
   "cell_type": "code",
   "execution_count": 29,
   "id": "f142acf3-63bc-4348-bd6f-0b1d11300f67",
   "metadata": {},
   "outputs": [
    {
     "data": {
      "text/plain": [
       "False"
      ]
     },
     "execution_count": 29,
     "metadata": {},
     "output_type": "execute_result"
    }
   ],
   "source": [
    "s.isalnum()"
   ]
  },
  {
   "cell_type": "code",
   "execution_count": null,
   "id": "2eec6b41-0963-4319-a662-adf629604455",
   "metadata": {},
   "outputs": [],
   "source": [
    "s.isal"
   ]
  },
  {
   "cell_type": "code",
   "execution_count": null,
   "id": "b55bdb4e-5279-49c3-94f9-c55cc7acff6d",
   "metadata": {},
   "outputs": [],
   "source": []
  }
 ],
 "metadata": {
  "kernelspec": {
   "display_name": "Python 3 (ipykernel)",
   "language": "python",
   "name": "python3"
  },
  "language_info": {
   "codemirror_mode": {
    "name": "ipython",
    "version": 3
   },
   "file_extension": ".py",
   "mimetype": "text/x-python",
   "name": "python",
   "nbconvert_exporter": "python",
   "pygments_lexer": "ipython3",
   "version": "3.12.4"
  }
 },
 "nbformat": 4,
 "nbformat_minor": 5
}
